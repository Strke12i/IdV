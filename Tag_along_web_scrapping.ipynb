{
 "cells": [
  {
   "cell_type": "code",
   "execution_count": 1,
   "metadata": {},
   "outputs": [],
   "source": [
    "import pandas as pd\n",
    "import bs4\n",
    "import cloudscraper"
   ]
  },
  {
   "cell_type": "code",
   "execution_count": 2,
   "metadata": {},
   "outputs": [],
   "source": [
    "#Substituir o caminho do arquivo para o caminho do arquivo que você baixou\n",
    "df = pd.read_excel('../Base/acoes-economatica.xlsm', sheet_name='Método Davi')\n",
    "scrapper = cloudscraper.create_scraper()"
   ]
  },
  {
   "cell_type": "code",
   "execution_count": 3,
   "metadata": {},
   "outputs": [],
   "source": [
    "tickers = df[\"Unnamed: 1\"].dropna().values\n",
    "tickers = tickers[2:].tolist()"
   ]
  },
  {
   "cell_type": "code",
   "execution_count": 5,
   "metadata": {},
   "outputs": [],
   "source": [
    "def get_acao(ticker):\n",
    "    tag_along = '--'\n",
    "    try: \n",
    "        url = f'https://statusinvest.com.br/acoes/{ticker}'\n",
    "        response = scrapper.get(url)\n",
    "        soup = bs4.BeautifulSoup(response.text, 'html.parser')\n",
    "        infos = soup.find_all('div', class_='info')\n",
    "        tags = []\n",
    "        for info in infos:\n",
    "            if 'Tag Along' in info.text:\n",
    "                tags = info.find_all('strong')\n",
    "                \n",
    "        tag_along = tags[0].text if tags else '--'\n",
    "    except:\n",
    "        tag_along = 'Erro'\n",
    "    \n",
    "    return tag_along"
   ]
  },
  {
   "cell_type": "code",
   "execution_count": null,
   "metadata": {},
   "outputs": [],
   "source": [
    "tag_alongs = {}\n",
    "for ticket in tickers:\n",
    "    tag_along = get_acao(ticket)\n",
    "    print(f'{ticket}: {tag_along}')\n",
    "    tag_alongs[ticket] = tag_along"
   ]
  },
  {
   "cell_type": "code",
   "execution_count": 12,
   "metadata": {},
   "outputs": [],
   "source": [
    "copy = tag_alongs\n",
    "for key, value in copy.items():\n",
    "    if value != '--':\n",
    "        value = value.replace(' ', '')\n",
    "    else:\n",
    "        value = 0\n",
    "        \n",
    "df['Tag Along'] = df['Ticket'].map(tag_alongs)\n",
    "df.to_csv('tag_along.csv', sep=';', encoding='utf-8', index=False)"
   ]
  }
 ],
 "metadata": {
  "kernelspec": {
   "display_name": "Python 3",
   "language": "python",
   "name": "python3"
  },
  "language_info": {
   "codemirror_mode": {
    "name": "ipython",
    "version": 3
   },
   "file_extension": ".py",
   "mimetype": "text/x-python",
   "name": "python",
   "nbconvert_exporter": "python",
   "pygments_lexer": "ipython3",
   "version": "3.12.0"
  }
 },
 "nbformat": 4,
 "nbformat_minor": 2
}
